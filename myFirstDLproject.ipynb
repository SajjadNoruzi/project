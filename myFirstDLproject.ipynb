{
  "nbformat": 4,
  "nbformat_minor": 0,
  "metadata": {
    "colab": {
      "name": "Untitled0.ipynb",
      "provenance": [],
      "collapsed_sections": [],
      "authorship_tag": "ABX9TyPaxSPqmaCzmV7gOXzR0EpK",
      "include_colab_link": true
    },
    "kernelspec": {
      "name": "python3",
      "display_name": "Python 3"
    },
    "language_info": {
      "name": "python"
    }
  },
  "cells": [
    {
      "cell_type": "markdown",
      "metadata": {
        "id": "view-in-github",
        "colab_type": "text"
      },
      "source": [
        "<a href=\"https://colab.research.google.com/github/SajjadNoruzi/project/blob/main/myFirstDLproject.ipynb\" target=\"_parent\"><img src=\"https://colab.research.google.com/assets/colab-badge.svg\" alt=\"Open In Colab\"/></a>"
      ]
    },
    {
      "cell_type": "code",
      "execution_count": null,
      "metadata": {
        "id": "lkX_LMSNAg1L"
      },
      "outputs": [],
      "source": [
        "from keras.datasets import mnist\n",
        "from keras import models\n",
        "from keras import layers\n",
        "from tensorflow.keras.utils import to_categorical"
      ]
    },
    {
      "cell_type": "code",
      "source": [
        "(train_images,train_labels),(test_images,test_labels) = mnist.load_data()\n",
        "\n",
        "train_images.shape\n",
        "train_labels"
      ],
      "metadata": {
        "colab": {
          "base_uri": "https://localhost:8080/"
        },
        "id": "669HNOvHB2II",
        "outputId": "0d44cc38-ada4-47df-faaf-dfcf6c16126d"
      },
      "execution_count": null,
      "outputs": [
        {
          "output_type": "execute_result",
          "data": {
            "text/plain": [
              "array([5, 0, 4, ..., 5, 6, 8], dtype=uint8)"
            ]
          },
          "metadata": {},
          "execution_count": 7
        }
      ]
    },
    {
      "cell_type": "code",
      "source": [
        "train_images=train_images.reshape((60000,28*28))\n",
        "train_images=train_images.astype('float32')/255\n",
        "\n",
        "test_images=test_images.reshape((10000,28*28))\n",
        "test_images=test_images.astype('float32')/255\n"
      ],
      "metadata": {
        "id": "7-a444_lDiUv"
      },
      "execution_count": null,
      "outputs": []
    },
    {
      "cell_type": "code",
      "source": [
        "train_labels=to_categorical(train_labels)\n",
        "test_labels=to_categorical(test_labels)\n",
        "\n",
        "\n",
        "train_labels"
      ],
      "metadata": {
        "id": "l0OwVwKkEz1Q"
      },
      "execution_count": null,
      "outputs": []
    },
    {
      "cell_type": "code",
      "source": [
        " network=models.Sequential()\n",
        " network.add(layers.Dense(512,activation='relu',input_shape=(28*28,)))\n",
        " network.add(layers.Dense(10,activation='softmax'))\n",
        " network.compile(optimizer='rmsprop',loss='categorical_crossentropy',metrics=['accuracy'])\n",
        " \n",
        " network.fit(train_images,train_labels,epochs=5,batch_size=128)"
      ],
      "metadata": {
        "id": "twwmIs0gFgpn"
      },
      "execution_count": null,
      "outputs": []
    },
    {
      "cell_type": "code",
      "source": [
        "test_lost,test_acc=network.evaluate(test_images,test_labels)\n",
        "\n",
        "print('test loss : ',test_lost)\n",
        "print('test accuracy : ',test_acc)"
      ],
      "metadata": {
        "id": "ya_b2TMxJqbf"
      },
      "execution_count": null,
      "outputs": []
    }
  ]
}